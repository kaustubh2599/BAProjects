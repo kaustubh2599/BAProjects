{
 "cells": [
  {
   "cell_type": "markdown",
   "metadata": {},
   "source": [
    "# Create a New DB if not exististed otherwise open an already existed DB"
   ]
  },
  {
   "cell_type": "code",
   "execution_count": 131,
   "metadata": {},
   "outputs": [
    {
     "name": "stdout",
     "output_type": "stream",
     "text": [
      "<class 'sqlite3.Connection'>\n",
      "Opened database successfully\n",
      "right\n"
     ]
    }
   ],
   "source": [
    "import sqlite3\n",
    "conn=sqlite3.connect('C:\\\\Users\\\\LENOVO\\\\Safai8.db')\n",
    "print(type(conn))\n",
    "conn.execute(\"PRAGMA foreign_keys = 1\")\n",
    "cur=conn.cursor()\n",
    "\n",
    "print(\"Opened database successfully\");\n",
    "\n",
    "qry= '''\n",
    "CREATE TABLE Customer (CustId INTEGER PRIMARY KEY AUTOINCREMENT, CustFN TEXT (1, 10), CustLN TEXT (1, 10), CustAdd TEXT (1, 50), CustMob INTEGER (10), CustEml TEXT (1, 20));\n",
    "\n",
    "CREATE TABLE Booking (BookId INTEGER PRIMARY KEY AUTOINCREMENT, CustId INTEGER (5) REFERENCES Customer (CustId) ON DELETE NO ACTION ON UPDATE CASCADE NOT NULL, Chrg INTEGER (3) NOT NULL, BDate DATE (10) NOT NULL, BSlot TIME NOT NULL, BAvail TEXT (5));\n",
    "\n",
    "CREATE TABLE Staff (StfId INTEGER PRIMARY KEY AUTOINCREMENT, BookId INTEGER (5) REFERENCES Booking (BookId) ON DELETE NO ACTION ON UPDATE CASCADE NOT NULL, StfNm TEXT (1, 10) NOT NULL, StfMob INTEGER (10) NOT NULL);\n",
    "\n",
    "CREATE TABLE Feedback (FdId INTEGER PRIMARY KEY AUTOINCREMENT, CustId INTEGER (5) NOT NULL REFERENCES Customer (CustId) ON DELETE NO ACTION ON UPDATE NO ACTION, StfId INTEGER (5) REFERENCES Staff (StfId) ON DELETE NO ACTION ON UPDATE CASCADE NOT NULL, FdDsc TEXT (1, 50) NOT NULL);\n",
    "\n",
    "\n",
    "'''        \n",
    "try:\n",
    "    cur.executescript(qry)\n",
    "    print('right')\n",
    "except Exception as e:\n",
    "    print('Error', e)"
   ]
  },
  {
   "cell_type": "code",
   "execution_count": null,
   "metadata": {},
   "outputs": [],
   "source": []
  },
  {
   "cell_type": "code",
   "execution_count": 132,
   "metadata": {},
   "outputs": [
    {
     "data": {
      "text/plain": [
       "'/Users/aakashsingla/Downloads'"
      ]
     },
     "execution_count": 132,
     "metadata": {},
     "output_type": "execute_result"
    }
   ],
   "source": [
    "#Import and check the current location\n",
    "import os\n",
    "os.getcwd()"
   ]
  },
  {
   "cell_type": "code",
   "execution_count": 133,
   "metadata": {},
   "outputs": [],
   "source": [
    "#insert the data into tables\n",
    "qry=\"insert into Customer (CustId, CustFN, CustLN, CustAdd, CustMob,CustEml ) values (?,?,?,?,?,?);\"\n",
    "customerlist = [\n",
    "    (10201,'Alex','Lord',\"'23, Queens Street XR5 QW5'\",9635261247,'a.lord@cmail.com'),\n",
    "    (10202,'Andy','Murrey',\"'78, Wood Bridge Street BU6 BT8'\",7788001155,'a.murrey@cmail.com'),\n",
    "    (10203,'John','Kvey',\"'C83, Seaface Street VB7 QW6'\",8500221144,'j.kvey@cmail.com'),\n",
    "    (10204,'Peter','Chu',\"'85, King Philip Street JN8 MK9'\",7485961232,'peter.c@cmail.com'),\n",
    "    (10205,'Ron','James',\"'11, Rockwell Street WE4 DF5'\",2255889966,'r.james@cmail.com'),\n",
    "    (10206,'Harry','Pother',\"'85, St. Thomas Street CF6 NJ8'\",4477885511,'h.pother@cmail.com'),\n",
    "    (10207,'Kate','Winlet',\"'15, Gandy Street DF6 JI7'\",1144778855,'kt.winlet@cmial.com'),\n",
    "    (10208,'Tom','Buxton',\"'25, Edward Street KT6 WE7'\",4477885566,'t.buxton@cmail.com'),\n",
    "    (10209,'Claire','Thomas',\"'23, Queens Street GY6 TR7'\",1122335544,'c.thomas@cmail.com'),\n",
    "    (10210,'Marry','Alison',\"'87, Edward Street ER7 GY8'\",8899665544,'m.alison@cmail.com')\n",
    "\n",
    "]\n",
    "    \n",
    "\n",
    "\n",
    "\n",
    "cur.executemany(qry,customerlist)\n",
    "conn.commit()\n",
    "        "
   ]
  },
  {
   "cell_type": "code",
   "execution_count": 134,
   "metadata": {},
   "outputs": [],
   "source": [
    "#fectch the results from custoemr table\n",
    "qry= \"select * from Customer\""
   ]
  },
  {
   "cell_type": "code",
   "execution_count": 135,
   "metadata": {},
   "outputs": [],
   "source": [
    "#execute the above query\n",
    "cur.execute(qry)\n",
    "\n",
    "x=cur.fetchall()"
   ]
  },
  {
   "cell_type": "code",
   "execution_count": 136,
   "metadata": {},
   "outputs": [
    {
     "name": "stdout",
     "output_type": "stream",
     "text": [
      "(10201, 'Alex', 'Lord', \"'23, Queens Street XR5 QW5'\", 9635261247, 'a.lord@cmail.com')\n",
      "(10202, 'Andy', 'Murrey', \"'78, Wood Bridge Street BU6 BT8'\", 7788001155, 'a.murrey@cmail.com')\n",
      "(10203, 'John', 'Kvey', \"'C83, Seaface Street VB7 QW6'\", 8500221144, 'j.kvey@cmail.com')\n",
      "(10204, 'Peter', 'Chu', \"'85, King Philip Street JN8 MK9'\", 7485961232, 'peter.c@cmail.com')\n",
      "(10205, 'Ron', 'James', \"'11, Rockwell Street WE4 DF5'\", 2255889966, 'r.james@cmail.com')\n",
      "(10206, 'Harry', 'Pother', \"'85, St. Thomas Street CF6 NJ8'\", 4477885511, 'h.pother@cmail.com')\n",
      "(10207, 'Kate', 'Winlet', \"'15, Gandy Street DF6 JI7'\", 1144778855, 'kt.winlet@cmial.com')\n",
      "(10208, 'Tom', 'Buxton', \"'25, Edward Street KT6 WE7'\", 4477885566, 't.buxton@cmail.com')\n",
      "(10209, 'Claire', 'Thomas', \"'23, Queens Street GY6 TR7'\", 1122335544, 'c.thomas@cmail.com')\n",
      "(10210, 'Marry', 'Alison', \"'87, Edward Street ER7 GY8'\", 8899665544, 'm.alison@cmail.com')\n"
     ]
    }
   ],
   "source": [
    "#Print the results from above query\n",
    "for x in x:\n",
    "    print(x)"
   ]
  },
  {
   "cell_type": "code",
   "execution_count": 137,
   "metadata": {},
   "outputs": [],
   "source": [
    "#insert the data into table\n",
    "qry=\"insert into Booking (BookId, CustId, Chrg, Bdate, Bslot,BAvail ) values (?,?,?,?,?,?);\"\n",
    "bookinglist = [\n",
    "    (60501,10201,30,\"'01/03/2021'\",\"'09:00:00'\",\"Yes\"),\n",
    "    (60502,10202,30,\"'04/03/2021'\",\"'11:00:00'\",\"Yes\"),\n",
    "    (60503,10203,30,\"'11/03/2021'\",\"'09:00:00'\",\"Yes\"),\n",
    "    (60504,10204,30,\"'12/03/2021'\",\"'09:00:00'\",\"Yes\"),\n",
    "    (60505,10205,30,\"'12/03/2021'\",\"'13:00:00'\",\"Yes\"),\n",
    "    (60506,10206,30,\"'15/03/2021'\",\"'15:00:00'\",\"No\"),\n",
    "    (60507,10207,30,\"'17/03/2021'\",\"'09:00:00'\",\"Yes\"),\n",
    "    (60508,10208,30,\"'18/03/2021'\",\"'13:00:00'\",\"Yes\"),\n",
    "    (60509,10209,30,\"'19/03/2021'\",\"'13:00:00'\",\"No\"),\n",
    "    (60510,10210,30,\"'20/03/2021'\",\"'13:00:00'\",\"Yes\")]\n",
    "\n",
    "cur.executemany(qry,bookinglist)\n",
    "conn.commit()\n",
    "        \n"
   ]
  },
  {
   "cell_type": "code",
   "execution_count": 138,
   "metadata": {},
   "outputs": [
    {
     "name": "stdout",
     "output_type": "stream",
     "text": [
      "(60501, 10201, 30, \"'01/03/2021'\", \"'09:00:00'\", 'Yes')\n",
      "(60502, 10202, 30, \"'04/03/2021'\", \"'11:00:00'\", 'Yes')\n",
      "(60503, 10203, 30, \"'11/03/2021'\", \"'09:00:00'\", 'Yes')\n",
      "(60504, 10204, 30, \"'12/03/2021'\", \"'09:00:00'\", 'Yes')\n",
      "(60505, 10205, 30, \"'12/03/2021'\", \"'13:00:00'\", 'Yes')\n",
      "(60506, 10206, 30, \"'15/03/2021'\", \"'15:00:00'\", 'No')\n",
      "(60507, 10207, 30, \"'17/03/2021'\", \"'09:00:00'\", 'Yes')\n",
      "(60508, 10208, 30, \"'18/03/2021'\", \"'13:00:00'\", 'Yes')\n",
      "(60509, 10209, 30, \"'19/03/2021'\", \"'13:00:00'\", 'No')\n",
      "(60510, 10210, 30, \"'20/03/2021'\", \"'13:00:00'\", 'Yes')\n"
     ]
    }
   ],
   "source": [
    "#fectch and print the results from Booking table   \n",
    "qry= \"select * from Booking\"\n",
    "cur.execute(qry)\n",
    "\n",
    "x=cur.fetchall()\n",
    "for by in x:\n",
    "    print(by)"
   ]
  },
  {
   "cell_type": "code",
   "execution_count": 139,
   "metadata": {},
   "outputs": [],
   "source": [
    "#insert the data into staff table\n",
    "qry=\"insert into Staff (StfId, BookId, StfNm, StfMob ) values (?,?,?,?);\"\n",
    "stafflist = [\n",
    "    (70311,60501,'Robert',8877001122),\n",
    " (70312,60502,'Perry',2233114400),\n",
    "(70313,60503,'Stephne',8899665500),\n",
    "(70314,60504,'Richard',8899002255),\n",
    "(70315,60505,'Charles',1144770033),\n",
    "(70316,60506,'Rowan',1100889977),\n",
    "(70317,60507,'Elizabeth',8855223366),\n",
    "(70318,60508,'George',9955117755),\n",
    "(70319,60509,'Emily',3355778866),\n",
    "(70320,60510,'Sindrella',1155773399)]\n",
    "\n",
    "    \n",
    "cur.executemany(qry,stafflist)\n",
    "conn.commit()"
   ]
  },
  {
   "cell_type": "code",
   "execution_count": 140,
   "metadata": {},
   "outputs": [
    {
     "name": "stdout",
     "output_type": "stream",
     "text": [
      "(70311, 60501, 'Robert', 8877001122)\n",
      "(70312, 60502, 'Perry', 2233114400)\n",
      "(70313, 60503, 'Stephne', 8899665500)\n",
      "(70314, 60504, 'Richard', 8899002255)\n",
      "(70315, 60505, 'Charles', 1144770033)\n",
      "(70316, 60506, 'Rowan', 1100889977)\n",
      "(70317, 60507, 'Elizabeth', 8855223366)\n",
      "(70318, 60508, 'George', 9955117755)\n",
      "(70319, 60509, 'Emily', 3355778866)\n",
      "(70320, 60510, 'Sindrella', 1155773399)\n"
     ]
    }
   ],
   "source": [
    "#fectch and print the results from Booking table   \n",
    "qry= \"select * from Staff\"\n",
    "cur.execute(qry)\n",
    "\n",
    "x=cur.fetchall()\n",
    "for by in x:\n",
    "    print(by)"
   ]
  },
  {
   "cell_type": "code",
   "execution_count": 141,
   "metadata": {},
   "outputs": [],
   "source": [
    "#insert the data into Feedaback table\n",
    "qry=\"insert into Feedback (FdId, CustId, StfId, FdDsc ) values (?,?,?,?);\"\n",
    "feedbacklist = [(90531,10201,70311,\"'Very Good'\"),\n",
    "                (90532,10202,70312,'Excellent'),\n",
    "                (90533,10203,70313,'Good'),\n",
    "                (90534,10204,70314,'Beyond Expectation'),\n",
    "                (90535,10205,70315,'Excellent'),\n",
    "                (90536,10206,70316,'Very Good'),\n",
    "                (90537,10207,70317,'Scope for Improvement'),\n",
    "                (90538,10208,70318,'Very Good'),\n",
    "                (90539,10209,70319,'Very Good'),\n",
    "                (90540,10210,70320,'Excellent')]\n",
    "\n",
    "   \n",
    "cur.executemany(qry,feedbacklist)\n",
    "conn.commit()"
   ]
  },
  {
   "cell_type": "code",
   "execution_count": 142,
   "metadata": {},
   "outputs": [
    {
     "name": "stdout",
     "output_type": "stream",
     "text": [
      "(90531, 10201, 70311, \"'Very Good'\")\n",
      "(90532, 10202, 70312, 'Excellent')\n",
      "(90533, 10203, 70313, 'Good')\n",
      "(90534, 10204, 70314, 'Beyond Expectation')\n",
      "(90535, 10205, 70315, 'Excellent')\n",
      "(90536, 10206, 70316, 'Very Good')\n",
      "(90537, 10207, 70317, 'Scope for Improvement')\n",
      "(90538, 10208, 70318, 'Very Good')\n",
      "(90539, 10209, 70319, 'Very Good')\n",
      "(90540, 10210, 70320, 'Excellent')\n"
     ]
    }
   ],
   "source": [
    "#fectch and print the results from feedback table  \n",
    "query= \"Select * from Feedback;\"\n",
    "cur.execute(query)\n",
    "values=cur.fetchall()\n",
    "for y in values:\n",
    "    print(y)"
   ]
  },
  {
   "cell_type": "markdown",
   "metadata": {},
   "source": [
    "# #Update"
   ]
  },
  {
   "cell_type": "code",
   "execution_count": 143,
   "metadata": {},
   "outputs": [
    {
     "name": "stdout",
     "output_type": "stream",
     "text": [
      "Prices Updated!\n"
     ]
    }
   ],
   "source": [
    "#increase the price and update into the booking table\n",
    "qry='''\n",
    "\n",
    "update Booking \n",
    "set chrg = chrg*1.2\n",
    ";\n",
    "'''\n",
    "\n",
    "try:\n",
    "        cur.execute(qry)\n",
    "        print ('Prices Updated!')\n",
    "        conn.commit()\n",
    "except:\n",
    "        print ('Error in update operation .. rollback')\n",
    "        conn.rollback()"
   ]
  },
  {
   "cell_type": "markdown",
   "metadata": {},
   "source": [
    "# #Delete"
   ]
  },
  {
   "cell_type": "code",
   "execution_count": 144,
   "metadata": {},
   "outputs": [
    {
     "name": "stdout",
     "output_type": "stream",
     "text": [
      "Feedback Id Deleted\n"
     ]
    }
   ],
   "source": [
    "#Deleting of a particular record\n",
    "qry='''\n",
    "\n",
    "delete from Feedback\n",
    "where FdId = 90540\n",
    ";\n",
    "'''\n",
    "\n",
    "try:\n",
    "        cur.execute(qry)\n",
    "        print ('Feedback Id Deleted')\n",
    "        conn.commit()\n",
    "except:\n",
    "        print ('Error in update operation .. rollback')\n",
    "        conn.rollback()"
   ]
  },
  {
   "cell_type": "code",
   "execution_count": null,
   "metadata": {},
   "outputs": [],
   "source": []
  },
  {
   "cell_type": "code",
   "execution_count": 145,
   "metadata": {},
   "outputs": [
    {
     "name": "stdout",
     "output_type": "stream",
     "text": [
      "(60501, 36, \"'01/03/2021'\", \"'09:00:00'\", 'Yes')\n",
      "(60502, 36, \"'04/03/2021'\", \"'11:00:00'\", 'Yes')\n",
      "(60503, 36, \"'11/03/2021'\", \"'09:00:00'\", 'Yes')\n",
      "(60504, 36, \"'12/03/2021'\", \"'09:00:00'\", 'Yes')\n",
      "(60505, 36, \"'12/03/2021'\", \"'13:00:00'\", 'Yes')\n",
      "(60507, 36, \"'17/03/2021'\", \"'09:00:00'\", 'Yes')\n",
      "(60508, 36, \"'18/03/2021'\", \"'13:00:00'\", 'Yes')\n",
      "(60510, 36, \"'20/03/2021'\", \"'13:00:00'\", 'Yes')\n"
     ]
    }
   ],
   "source": [
    "#looking for booking availabilty\n",
    "qry= \"select BookId, Chrg, Bdate, Bslot,BAvail from Booking  where BAvail= 'Yes' ;\"\n",
    "cur.execute(qry)\n",
    "value= cur.fetchall()\n",
    "for x in value:\n",
    "    print(x)"
   ]
  },
  {
   "cell_type": "code",
   "execution_count": null,
   "metadata": {},
   "outputs": [],
   "source": []
  },
  {
   "cell_type": "code",
   "execution_count": 146,
   "metadata": {},
   "outputs": [],
   "source": [
    "import pandas as pd"
   ]
  },
  {
   "cell_type": "code",
   "execution_count": 147,
   "metadata": {},
   "outputs": [],
   "source": [
    "#convert the data into Dataframe\n",
    "frame= pd.DataFrame(value)"
   ]
  },
  {
   "cell_type": "code",
   "execution_count": 148,
   "metadata": {},
   "outputs": [],
   "source": [
    "frame.columns=[\"Booking Id\", \"Charges\", \"Booking Date\", \"Booking Slot\",\"Booking Availablity\"]"
   ]
  },
  {
   "cell_type": "code",
   "execution_count": 149,
   "metadata": {},
   "outputs": [
    {
     "data": {
      "text/html": [
       "<div>\n",
       "<style scoped>\n",
       "    .dataframe tbody tr th:only-of-type {\n",
       "        vertical-align: middle;\n",
       "    }\n",
       "\n",
       "    .dataframe tbody tr th {\n",
       "        vertical-align: top;\n",
       "    }\n",
       "\n",
       "    .dataframe thead th {\n",
       "        text-align: right;\n",
       "    }\n",
       "</style>\n",
       "<table border=\"1\" class=\"dataframe\">\n",
       "  <thead>\n",
       "    <tr style=\"text-align: right;\">\n",
       "      <th></th>\n",
       "      <th>Booking Id</th>\n",
       "      <th>Charges</th>\n",
       "      <th>Booking Date</th>\n",
       "      <th>Booking Slot</th>\n",
       "      <th>Booking Availablity</th>\n",
       "    </tr>\n",
       "  </thead>\n",
       "  <tbody>\n",
       "    <tr>\n",
       "      <th>0</th>\n",
       "      <td>60501</td>\n",
       "      <td>36</td>\n",
       "      <td>'01/03/2021'</td>\n",
       "      <td>'09:00:00'</td>\n",
       "      <td>Yes</td>\n",
       "    </tr>\n",
       "    <tr>\n",
       "      <th>1</th>\n",
       "      <td>60502</td>\n",
       "      <td>36</td>\n",
       "      <td>'04/03/2021'</td>\n",
       "      <td>'11:00:00'</td>\n",
       "      <td>Yes</td>\n",
       "    </tr>\n",
       "    <tr>\n",
       "      <th>2</th>\n",
       "      <td>60503</td>\n",
       "      <td>36</td>\n",
       "      <td>'11/03/2021'</td>\n",
       "      <td>'09:00:00'</td>\n",
       "      <td>Yes</td>\n",
       "    </tr>\n",
       "    <tr>\n",
       "      <th>3</th>\n",
       "      <td>60504</td>\n",
       "      <td>36</td>\n",
       "      <td>'12/03/2021'</td>\n",
       "      <td>'09:00:00'</td>\n",
       "      <td>Yes</td>\n",
       "    </tr>\n",
       "    <tr>\n",
       "      <th>4</th>\n",
       "      <td>60505</td>\n",
       "      <td>36</td>\n",
       "      <td>'12/03/2021'</td>\n",
       "      <td>'13:00:00'</td>\n",
       "      <td>Yes</td>\n",
       "    </tr>\n",
       "    <tr>\n",
       "      <th>5</th>\n",
       "      <td>60507</td>\n",
       "      <td>36</td>\n",
       "      <td>'17/03/2021'</td>\n",
       "      <td>'09:00:00'</td>\n",
       "      <td>Yes</td>\n",
       "    </tr>\n",
       "    <tr>\n",
       "      <th>6</th>\n",
       "      <td>60508</td>\n",
       "      <td>36</td>\n",
       "      <td>'18/03/2021'</td>\n",
       "      <td>'13:00:00'</td>\n",
       "      <td>Yes</td>\n",
       "    </tr>\n",
       "    <tr>\n",
       "      <th>7</th>\n",
       "      <td>60510</td>\n",
       "      <td>36</td>\n",
       "      <td>'20/03/2021'</td>\n",
       "      <td>'13:00:00'</td>\n",
       "      <td>Yes</td>\n",
       "    </tr>\n",
       "  </tbody>\n",
       "</table>\n",
       "</div>"
      ],
      "text/plain": [
       "   Booking Id  Charges  Booking Date Booking Slot Booking Availablity\n",
       "0       60501       36  '01/03/2021'   '09:00:00'                 Yes\n",
       "1       60502       36  '04/03/2021'   '11:00:00'                 Yes\n",
       "2       60503       36  '11/03/2021'   '09:00:00'                 Yes\n",
       "3       60504       36  '12/03/2021'   '09:00:00'                 Yes\n",
       "4       60505       36  '12/03/2021'   '13:00:00'                 Yes\n",
       "5       60507       36  '17/03/2021'   '09:00:00'                 Yes\n",
       "6       60508       36  '18/03/2021'   '13:00:00'                 Yes\n",
       "7       60510       36  '20/03/2021'   '13:00:00'                 Yes"
      ]
     },
     "execution_count": 149,
     "metadata": {},
     "output_type": "execute_result"
    }
   ],
   "source": [
    "frame"
   ]
  },
  {
   "cell_type": "code",
   "execution_count": 150,
   "metadata": {},
   "outputs": [],
   "source": [
    "#Adding a new column\n",
    "frame[\"Bookin_Id_Ind\"]= frame[\"Booking Id\"]"
   ]
  },
  {
   "cell_type": "code",
   "execution_count": 151,
   "metadata": {},
   "outputs": [],
   "source": [
    "#Setting an Index\n",
    "frame.set_index(\"Bookin_Id_Ind\", inplace= True)"
   ]
  },
  {
   "cell_type": "markdown",
   "metadata": {},
   "source": [
    "# Want to book "
   ]
  },
  {
   "cell_type": "code",
   "execution_count": 152,
   "metadata": {},
   "outputs": [
    {
     "data": {
      "text/html": [
       "<div>\n",
       "<style scoped>\n",
       "    .dataframe tbody tr th:only-of-type {\n",
       "        vertical-align: middle;\n",
       "    }\n",
       "\n",
       "    .dataframe tbody tr th {\n",
       "        vertical-align: top;\n",
       "    }\n",
       "\n",
       "    .dataframe thead th {\n",
       "        text-align: right;\n",
       "    }\n",
       "</style>\n",
       "<table border=\"1\" class=\"dataframe\">\n",
       "  <thead>\n",
       "    <tr style=\"text-align: right;\">\n",
       "      <th></th>\n",
       "      <th>Booking Id</th>\n",
       "      <th>Charges</th>\n",
       "      <th>Booking Date</th>\n",
       "      <th>Booking Slot</th>\n",
       "      <th>Booking Availablity</th>\n",
       "    </tr>\n",
       "    <tr>\n",
       "      <th>Bookin_Id_Ind</th>\n",
       "      <th></th>\n",
       "      <th></th>\n",
       "      <th></th>\n",
       "      <th></th>\n",
       "      <th></th>\n",
       "    </tr>\n",
       "  </thead>\n",
       "  <tbody>\n",
       "    <tr>\n",
       "      <th>60501</th>\n",
       "      <td>60501</td>\n",
       "      <td>36</td>\n",
       "      <td>'01/03/2021'</td>\n",
       "      <td>'09:00:00'</td>\n",
       "      <td>Yes</td>\n",
       "    </tr>\n",
       "    <tr>\n",
       "      <th>60502</th>\n",
       "      <td>60502</td>\n",
       "      <td>36</td>\n",
       "      <td>'04/03/2021'</td>\n",
       "      <td>'11:00:00'</td>\n",
       "      <td>Yes</td>\n",
       "    </tr>\n",
       "    <tr>\n",
       "      <th>60503</th>\n",
       "      <td>60503</td>\n",
       "      <td>36</td>\n",
       "      <td>'11/03/2021'</td>\n",
       "      <td>'09:00:00'</td>\n",
       "      <td>Yes</td>\n",
       "    </tr>\n",
       "    <tr>\n",
       "      <th>60504</th>\n",
       "      <td>60504</td>\n",
       "      <td>36</td>\n",
       "      <td>'12/03/2021'</td>\n",
       "      <td>'09:00:00'</td>\n",
       "      <td>Yes</td>\n",
       "    </tr>\n",
       "    <tr>\n",
       "      <th>60505</th>\n",
       "      <td>60505</td>\n",
       "      <td>36</td>\n",
       "      <td>'12/03/2021'</td>\n",
       "      <td>'13:00:00'</td>\n",
       "      <td>Yes</td>\n",
       "    </tr>\n",
       "    <tr>\n",
       "      <th>60507</th>\n",
       "      <td>60507</td>\n",
       "      <td>36</td>\n",
       "      <td>'17/03/2021'</td>\n",
       "      <td>'09:00:00'</td>\n",
       "      <td>Yes</td>\n",
       "    </tr>\n",
       "    <tr>\n",
       "      <th>60508</th>\n",
       "      <td>60508</td>\n",
       "      <td>36</td>\n",
       "      <td>'18/03/2021'</td>\n",
       "      <td>'13:00:00'</td>\n",
       "      <td>Yes</td>\n",
       "    </tr>\n",
       "    <tr>\n",
       "      <th>60510</th>\n",
       "      <td>60510</td>\n",
       "      <td>36</td>\n",
       "      <td>'20/03/2021'</td>\n",
       "      <td>'13:00:00'</td>\n",
       "      <td>Yes</td>\n",
       "    </tr>\n",
       "  </tbody>\n",
       "</table>\n",
       "</div>"
      ],
      "text/plain": [
       "               Booking Id  Charges  Booking Date Booking Slot  \\\n",
       "Bookin_Id_Ind                                                   \n",
       "60501               60501       36  '01/03/2021'   '09:00:00'   \n",
       "60502               60502       36  '04/03/2021'   '11:00:00'   \n",
       "60503               60503       36  '11/03/2021'   '09:00:00'   \n",
       "60504               60504       36  '12/03/2021'   '09:00:00'   \n",
       "60505               60505       36  '12/03/2021'   '13:00:00'   \n",
       "60507               60507       36  '17/03/2021'   '09:00:00'   \n",
       "60508               60508       36  '18/03/2021'   '13:00:00'   \n",
       "60510               60510       36  '20/03/2021'   '13:00:00'   \n",
       "\n",
       "              Booking Availablity  \n",
       "Bookin_Id_Ind                      \n",
       "60501                         Yes  \n",
       "60502                         Yes  \n",
       "60503                         Yes  \n",
       "60504                         Yes  \n",
       "60505                         Yes  \n",
       "60507                         Yes  \n",
       "60508                         Yes  \n",
       "60510                         Yes  "
      ]
     },
     "execution_count": 152,
     "metadata": {},
     "output_type": "execute_result"
    }
   ],
   "source": [
    "frame"
   ]
  },
  {
   "cell_type": "code",
   "execution_count": 153,
   "metadata": {},
   "outputs": [],
   "source": [
    "#converting the records into DF\n",
    "frame=frame.to_dict('index')\n",
    "V=frame.items()"
   ]
  },
  {
   "cell_type": "code",
   "execution_count": 154,
   "metadata": {},
   "outputs": [],
   "source": [
    "#import Redis from \n",
    "import redis"
   ]
  },
  {
   "cell_type": "code",
   "execution_count": 155,
   "metadata": {},
   "outputs": [],
   "source": [
    "#we are using DB number-8\n",
    "r = redis.Redis(host='localhost', port=6379, db=8)\n"
   ]
  },
  {
   "cell_type": "code",
   "execution_count": 156,
   "metadata": {},
   "outputs": [
    {
     "name": "stderr",
     "output_type": "stream",
     "text": [
      "<ipython-input-156-7819dc6b1cdf>:4: DeprecationWarning: Pipeline.hmset() is deprecated. Use Pipeline.hset() instead.\n",
      "  pipe.hmset(BookId, BookDetails)\n"
     ]
    },
    {
     "data": {
      "text/plain": [
       "True"
      ]
     },
     "execution_count": 156,
     "metadata": {},
     "output_type": "execute_result"
    }
   ],
   "source": [
    "#setting up the pipelining of redis \n",
    "with r.pipeline() as pipe:\n",
    "    for BookId, BookDetails in V:\n",
    "        pipe.hmset(BookId, BookDetails)\n",
    "    pipe.execute()\n",
    "r.bgsave()"
   ]
  },
  {
   "cell_type": "code",
   "execution_count": 157,
   "metadata": {},
   "outputs": [
    {
     "data": {
      "text/plain": [
       "[b'60504',\n",
       " b'60502',\n",
       " b'60505',\n",
       " b'60501',\n",
       " b'60508',\n",
       " b'60510',\n",
       " b'60503',\n",
       " b'60507']"
      ]
     },
     "execution_count": 157,
     "metadata": {},
     "output_type": "execute_result"
    }
   ],
   "source": [
    "#these are the hash keys of the redis database\n",
    "r.keys()"
   ]
  },
  {
   "cell_type": "code",
   "execution_count": 158,
   "metadata": {},
   "outputs": [
    {
     "data": {
      "text/plain": [
       "{b'Charges': b'36',\n",
       " b'Booking Date': b\"'04/03/2021'\",\n",
       " b'Booking Slot': b\"'11:00:00'\",\n",
       " b'Booking Availablity': b'Yes',\n",
       " b'Booking Id': b'60502'}"
      ]
     },
     "execution_count": 158,
     "metadata": {},
     "output_type": "execute_result"
    }
   ],
   "source": [
    "#it gives us details associated with particular key\n",
    "r.hgetall(\"60502\")"
   ]
  },
  {
   "cell_type": "code",
   "execution_count": 159,
   "metadata": {},
   "outputs": [
    {
     "data": {
      "text/plain": [
       "0"
      ]
     },
     "execution_count": 159,
     "metadata": {},
     "output_type": "execute_result"
    }
   ],
   "source": [
    "#Updation in hashkey records\n",
    "r.hset(\"60503\",\"Charges\" ,50)"
   ]
  },
  {
   "cell_type": "code",
   "execution_count": 160,
   "metadata": {},
   "outputs": [
    {
     "data": {
      "text/plain": [
       "{b'BAvail': b'No',\n",
       " b'Booking Id': b'60503',\n",
       " b'Charges': b'50',\n",
       " b'Booking Date': b\"'11/03/2021'\",\n",
       " b'Booking Slot': b\"'09:00:00'\",\n",
       " b'Booking Availablity': b'Yes'}"
      ]
     },
     "execution_count": 160,
     "metadata": {},
     "output_type": "execute_result"
    }
   ],
   "source": [
    "r.hgetall(\"60503\")"
   ]
  },
  {
   "cell_type": "code",
   "execution_count": 161,
   "metadata": {},
   "outputs": [
    {
     "data": {
      "text/plain": [
       "1"
      ]
     },
     "execution_count": 161,
     "metadata": {},
     "output_type": "execute_result"
    }
   ],
   "source": [
    "#delete the existing record\n",
    "r.delete(\"60503\")"
   ]
  },
  {
   "cell_type": "code",
   "execution_count": 162,
   "metadata": {},
   "outputs": [
    {
     "data": {
      "text/plain": [
       "{}"
      ]
     },
     "execution_count": 162,
     "metadata": {},
     "output_type": "execute_result"
    }
   ],
   "source": [
    "r.hgetall(\"60503\")# which shows key is deleted succefully"
   ]
  },
  {
   "cell_type": "markdown",
   "metadata": {},
   "source": [
    "# Polyglot Persistence: Which means, we will be using multiple databases for the same data i.e. Nosql and RDBMS"
   ]
  },
  {
   "cell_type": "code",
   "execution_count": 163,
   "metadata": {},
   "outputs": [],
   "source": [
    "#creating a function \n",
    "def BookingExists1(BID):\n",
    "    x=0\n",
    "    query=\"select BAvail from Booking where BookId = ?\"\n",
    "    out = cur.execute(query,(BID,)).fetchall()\n",
    "    print(out[0][0])\n",
    "    if out[0][0]=='No':\n",
    "        return True\n",
    "        \n",
    "    else:\n",
    "        return False\n",
    "        "
   ]
  },
  {
   "cell_type": "code",
   "execution_count": 164,
   "metadata": {},
   "outputs": [],
   "source": [
    "#creating a function \n",
    "def Room1(x):\n",
    "    query=\"update Booking set BAvail= 'No' where BookId= ?;\"\n",
    "    cur.execute(query,(x,))\n",
    "    conn.commit()\n",
    "    \n",
    "    #reddis\n",
    "#     tb = ':'+str(x)\n",
    "    r.hset(str(x),\"BAvail\", \"No\")\n",
    "    \n",
    "    print (\" Booking Done\")\n"
   ]
  },
  {
   "cell_type": "code",
   "execution_count": 165,
   "metadata": {},
   "outputs": [],
   "source": [
    "#creating a function \n",
    "def completebooking():\n",
    "    BID= input(\"Enter the Book ID:\")\n",
    "    if BookingExists1(BID)== False:\n",
    "        print(\"fghj\")\n",
    "        Room1(BID)\n",
    "\n",
    "    else:\n",
    "        print(\"Booking Unavailable\")"
   ]
  },
  {
   "cell_type": "code",
   "execution_count": 166,
   "metadata": {},
   "outputs": [
    {
     "name": "stdout",
     "output_type": "stream",
     "text": [
      "Enter the Book ID:60503\n",
      "Yes\n",
      "fghj\n",
      " Booking Done\n"
     ]
    }
   ],
   "source": [
    "# enter the number to book for example 60503\n",
    "completebooking()"
   ]
  },
  {
   "cell_type": "code",
   "execution_count": 167,
   "metadata": {},
   "outputs": [
    {
     "data": {
      "text/plain": [
       "{b'BAvail': b'No'}"
      ]
     },
     "execution_count": 167,
     "metadata": {},
     "output_type": "execute_result"
    }
   ],
   "source": [
    "#You can see, that number is book and status available is No\n",
    "r.hgetall(\"60503\")"
   ]
  },
  {
   "cell_type": "code",
   "execution_count": null,
   "metadata": {},
   "outputs": [],
   "source": []
  },
  {
   "cell_type": "code",
   "execution_count": null,
   "metadata": {},
   "outputs": [],
   "source": [
    "\n",
    "    "
   ]
  },
  {
   "cell_type": "code",
   "execution_count": null,
   "metadata": {},
   "outputs": [],
   "source": []
  }
 ],
 "metadata": {
  "kernelspec": {
   "display_name": "Python 3",
   "language": "python",
   "name": "python3"
  },
  "language_info": {
   "codemirror_mode": {
    "name": "ipython",
    "version": 3
   },
   "file_extension": ".py",
   "mimetype": "text/x-python",
   "name": "python",
   "nbconvert_exporter": "python",
   "pygments_lexer": "ipython3",
   "version": "3.8.5"
  }
 },
 "nbformat": 4,
 "nbformat_minor": 4
}
